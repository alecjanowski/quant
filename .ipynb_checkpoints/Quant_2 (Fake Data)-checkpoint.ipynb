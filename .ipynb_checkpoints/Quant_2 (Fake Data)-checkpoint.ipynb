{
 "cells": [
  {
   "cell_type": "code",
   "execution_count": 9,
   "metadata": {},
   "outputs": [],
   "source": [
    "import math ##For basic mathematical operations\n",
    "import matplotlib.pyplot as plt\n",
    "\n",
    "from IPython import display ## Plot setup for Ipython\n",
    "from matplotlib import cm ##  Colormap reference\n",
    "from matplotlib import gridspec ##plot setups\n",
    "from matplotlib import pyplot as plt ##plot setups\n",
    "import numpy as np \n",
    "import pandas as pd\n",
    "from sklearn.linear_model import LinearRegression\n",
    "\n",
    "independentVars = pd.read_csv(\"IndependentDemo.csv\")\n",
    "independentVars.drop(columns = [\"Time\"], inplace = True)\n",
    "dependentVars = pd.read_csv(\"DependentDemo.csv\")\n",
    "\n",
    "# for index, companyName in enumerate(companyNames):\n",
    "#     frames.append(pd.read_csv(\"./data/\" + companyName + \".csv\", sep=\",\"))\n",
    "#     frames[-1].columns = [(companyName + col) if index > 0 else col for index, col in enumerate(frames[-1].columns)]\n",
    "\n",
    "# mergedDf = frames[0]\n",
    "# for index, frame in enumerate(frames):\n",
    "#     if index:\n",
    "#         mergedDf = mergedDf.merge(frame, on='Date')\n",
    "\n",
    "# print(mergedDf)"
   ]
  },
  {
   "cell_type": "code",
   "execution_count": 12,
   "metadata": {},
   "outputs": [],
   "source": [
    "X = np.array(list(zip(independentVars[\"Symbol 0 Independent 0\"], independentVars[\"Symbol 0 Independent 1\"], independentVars[\"Symbol 0 Independent 2\"])))"
   ]
  },
  {
   "cell_type": "code",
   "execution_count": 17,
   "metadata": {},
   "outputs": [],
   "source": [
    "Y = np.array(dependentVars[\"Symbol 0 Dependent\"])"
   ]
  },
  {
   "cell_type": "code",
   "execution_count": 19,
   "metadata": {},
   "outputs": [
    {
     "name": "stdout",
     "output_type": "stream",
     "text": [
      "0.028265395374244107\n",
      "[-0.10970049 -0.05675735  0.07257761]\n",
      "0.10919597960937663\n"
     ]
    }
   ],
   "source": [
    "reg = LinearRegression().fit(X, Y)\n",
    "print(reg.score(X,Y))\n",
    "print(reg.coef_)\n",
    "print(reg.intercept_)"
   ]
  },
  {
   "cell_type": "code",
   "execution_count": 20,
   "metadata": {},
   "outputs": [],
   "source": [
    "dependentVars\n",
    "!"
   ]
  },
  {
   "cell_type": "code",
   "execution_count": null,
   "metadata": {},
   "outputs": [],
   "source": []
  }
 ],
 "metadata": {
  "kernelspec": {
   "display_name": "Python 3",
   "language": "python",
   "name": "python3"
  },
  "language_info": {
   "codemirror_mode": {
    "name": "ipython",
    "version": 3
   },
   "file_extension": ".py",
   "mimetype": "text/x-python",
   "name": "python",
   "nbconvert_exporter": "python",
   "pygments_lexer": "ipython3",
   "version": "3.7.4"
  }
 },
 "nbformat": 4,
 "nbformat_minor": 2
}
