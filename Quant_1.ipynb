{
 "cells": [
  {
   "cell_type": "code",
   "execution_count": 28,
   "metadata": {
    "pycharm": {
     "is_executing": false
    }
   },
   "outputs": [],
   "source": [
    "import math ##For basic mathematical operations\n",
    "import matplotlib.pyplot as plt\n",
    "\n",
    "from IPython import display ## Plot setup for Ipython\n",
    "from matplotlib import cm ##  Colormap reference\n",
    "from matplotlib import gridspec ##plot setups\n",
    "from matplotlib import pyplot as plt ##plot setups\n",
    "import numpy as np \n",
    "import pandas as pd\n",
    "from sklearn.linear_model import LinearRegression\n",
    "# from Queue import priority_queue\n",
    "\n",
    "companyNames = [\"AAPL\", \"AMZN\", \"APRN\", \"BE\", \"CRWD\", \"LOVE.CN\", \"MNS.AX\", \"NFLX\", \"PBYI\", \"SPOT\", \"TSLA\", \"UBER\", \"WORK\"]\n",
    "\n",
    "frames = []\n",
    "\n",
    "for index, companyName in enumerate(companyNames):\n",
    "    frames.append(pd.read_csv(\"./data/\" + companyName + \".csv\", sep=\",\"))\n",
    "    frames[-1].columns = [(companyName + col) if index > 0 else col for index, col in enumerate(frames[-1].columns)]\n",
    "\n",
    "mergedDf = frames[0]\n",
    "for index, frame in enumerate(frames):\n",
    "    if index:\n",
    "        mergedDf = mergedDf.merge(frame, on='Date')\n",
    "\n",
    "mergedDf\n",
    "!"
   ]
  },
  {
   "cell_type": "code",
   "execution_count": 29,
   "metadata": {
    "pycharm": {
     "is_executing": false
    }
   },
   "outputs": [],
   "source": [
    "def staggerData(staggerAmount):\n",
    "    X = np.array(list(zip(mergedDf[\"AAPLOpen\"], mergedDf[\"AAPLClose\"])))[:-staggerAmount]\n",
    "    Y = np.array(mergedDf[\"AAPLOpen\"])[staggerAmount:]\n",
    "    reg = LinearRegression().fit(X, Y)\n",
    "    print(reg.score(X,Y))\n",
    "    print(reg.coef_)\n",
    "    print(reg.intercept_)"
   ]
  },
  {
   "cell_type": "code",
   "execution_count": 30,
   "metadata": {
    "pycharm": {
     "is_executing": false
    }
   },
   "outputs": [
    {
     "name": "stdout",
     "text": [
      "0.9855683663787848\n",
      "[0.05840694 0.95073025]\n",
      "-1.5766593280206678\n"
     ],
     "output_type": "stream"
    }
   ],
   "source": [
    "staggerAmount = 1\n",
    "staggerData(staggerAmount)"
   ]
  },
  {
   "cell_type": "code",
   "execution_count": 31,
   "metadata": {
    "pycharm": {
     "is_executing": false
    }
   },
   "outputs": [],
   "source": [
    "def staggerDataOpenClose(stock, staggerAmount):\n",
    "    print(stock)\n",
    "    openingPrice = mergedDf[stock + \"Open\"].dropna()\n",
    "    closingPrice = mergedDf[stock + \"Close\"].dropna()\n",
    "    X = np.array(list(zip(openingPrice, closingPrice)))[:-staggerAmount]\n",
    "    Y = np.array(openingPrice)[staggerAmount:]\n",
    "    reg = LinearRegression().fit(X, Y)\n",
    "    print(reg.score(X,Y))\n",
    "    print(reg.coef_)\n",
    "    print(reg.intercept_)\n",
    "    print(\"\\n\")"
   ]
  },
  {
   "cell_type": "code",
   "execution_count": 32,
   "metadata": {
    "pycharm": {
     "is_executing": false
    }
   },
   "outputs": [
    {
     "name": "stdout",
     "text": [
      "AAPL\n",
      "0.9855683663787848\n",
      "[0.05840694 0.95073025]\n",
      "-1.5766593280206678\n",
      "\n",
      "\n"
     ],
     "output_type": "stream"
    }
   ],
   "source": [
    "staggerAmount = 1\n",
    "staggerDataOpenClose(\"AAPL\", staggerAmount)"
   ]
  },
  {
   "cell_type": "code",
   "execution_count": 33,
   "metadata": {
    "pycharm": {
     "is_executing": false
    }
   },
   "outputs": [],
   "source": [
    "def linearRegressionForColumns(stock, columnsToChoose, staggerAmount):\n",
    "    print(stock)\n",
    "    columnData = []\n",
    "    for column in columnsToChoose:\n",
    "        columnData.append(mergedDf[stock + column].dropna())\n",
    "    columnData = tuple(columnData)\n",
    "    X = np.array(list(zip(*columnData)))[:-staggerAmount]\n",
    "    Y = np.array(mergedDf[stock + \"Open\"].dropna())[staggerAmount:]\n",
    "    reg = LinearRegression().fit(X, Y)\n",
    "    print(reg.score(X,Y))\n",
    "    print(reg.coef_)\n",
    "    print(reg.intercept_)\n",
    "    print(\"\\n\")"
   ]
  },
  {
   "cell_type": "code",
   "execution_count": 34,
   "metadata": {
    "pycharm": {
     "is_executing": false
    }
   },
   "outputs": [
    {
     "name": "stdout",
     "text": [
      "AAPL\n",
      "0.9855683663787848\n",
      "[0.05840694 0.95073025]\n",
      "-1.5766593280206678\n",
      "\n",
      "\n"
     ],
     "output_type": "stream"
    }
   ],
   "source": [
    "columnsToChoose = [\"Open\", \"Close\"]\n",
    "staggerAmount = 1\n",
    "linearRegressionForColumns(\"AAPL\", columnsToChoose, staggerAmount)"
   ]
  },
  {
   "cell_type": "code",
   "execution_count": 35,
   "metadata": {
    "pycharm": {
     "is_executing": false
    }
   },
   "outputs": [],
   "source": [
    "def linearRegressionForColumnsForDays(stock, columnsToChoose, allDays):\n",
    "    print(stock)\n",
    "    columnData = []\n",
    "    maxDay = max(allDays)\n",
    "    for index, column in enumerate(columnsToChoose):\n",
    "        for day in allDays:\n",
    "            print(column, day)\n",
    "            columnData.append(mergedDf[stock + column].dropna()[maxDay - day:-day])\n",
    "    columnData = tuple(columnData)\n",
    "    X = np.array(list(zip(*columnData)))\n",
    "    Y = np.array(mergedDf[stock + \"Open\"].dropna())[maxDay:]\n",
    "    reg = LinearRegression().fit(X, Y)\n",
    "    print(reg.score(X,Y))\n",
    "    print(reg.coef_)\n",
    "    print(reg.intercept_)\n",
    "    print(\"\\n\")"
   ]
  },
  {
   "cell_type": "code",
   "execution_count": 36,
   "metadata": {
    "pycharm": {
     "is_executing": false
    }
   },
   "outputs": [
    {
     "name": "stdout",
     "text": [
      "AAPL\n",
      "Open 1\n",
      "Open 2\n",
      "Open 3\n",
      "Open 4\n",
      "Open 5\n",
      "Open 6\n",
      "Open 7\n",
      "Close 1\n",
      "Close 2\n",
      "Close 3\n",
      "Close 4\n",
      "Close 5\n",
      "Close 6\n",
      "Close 7\n",
      "0.9867671899919379\n",
      "[ 0.19125138  0.01573121 -0.16265672 -0.09060098  0.09575035 -0.15480548\n",
      " -0.10824737  0.902868   -0.28986729  0.24646926  0.09922313  0.02571238\n",
      "  0.12638826  0.12290455]\n",
      "-3.7760479943339362\n",
      "\n",
      "\n",
      "INTERACTIVE PYCHARM JUPY NOTIE\n"
     ],
     "output_type": "stream"
    }
   ],
   "source": [
    "columnsToChoose = [\"Open\", \"Close\"]\n",
    "allDays = list(range(1,8))\n",
    "linearRegressionForColumnsForDays(\"AAPL\", columnsToChoose, allDays)\n",
    "print(\"INTERACTIVE PYCHARM JUPY NOTIE\")"
   ]
  },
  {
   "cell_type": "code",
   "execution_count": 37,
   "metadata": {
    "pycharm": {
     "is_executing": false
    }
   },
   "outputs": [],
   "source": [
    "def linearRegressionForColumnsForDaysIndepOfColumn(stock, columnsToChoose, allDays):\n",
    "    print(stock)\n",
    "    columnData = []\n",
    "    for index, column in enumerate(columnsToChoose):\n",
    "        maxDay = max(allDays[index])\n",
    "        for day in allDays[index]:\n",
    "            print(column, day)\n",
    "            columnData.append(mergedDf[stock + column].dropna()[maxDay - day:-day])\n",
    "    columnData = tuple(columnData)\n",
    "    X = np.array(list(zip(*columnData)))\n",
    "    Y = np.array(mergedDf[stock + \"Open\"].dropna())[maxDay:]\n",
    "    reg = LinearRegression().fit(X, Y)\n",
    "    print(reg.score(X,Y))\n",
    "    print(reg.coef_)\n",
    "    print(reg.intercept_)\n",
    "    print(\"\\n\")"
   ]
  },
  {
   "cell_type": "code",
   "execution_count": 38,
   "metadata": {
    "pycharm": {
     "is_executing": false
    }
   },
   "outputs": [
    {
     "name": "stdout",
     "text": [
      "[[1, 2, 3, 4, 5, 6, 7], [1, 2, 3, 4, 5, 6, 7]]\n",
      "AAPL\n",
      "Open 1\n",
      "Open 2\n",
      "Open 3\n",
      "Open 4\n",
      "Open 5\n",
      "Open 6\n",
      "Open 7\n",
      "Close 1\n",
      "Close 2\n",
      "Close 3\n",
      "Close 4\n",
      "Close 5\n",
      "Close 6\n",
      "Close 7\n",
      "0.9867671899919379\n",
      "[ 0.19125138  0.01573121 -0.16265672 -0.09060098  0.09575035 -0.15480548\n",
      " -0.10824737  0.902868   -0.28986729  0.24646926  0.09922313  0.02571238\n",
      "  0.12638826  0.12290455]\n",
      "-3.7760479943339362\n",
      "\n",
      "\n"
     ],
     "output_type": "stream"
    }
   ],
   "source": [
    "columnsToChoose = [\"Open\", \"Close\"]\n",
    "allDays = [list(range(1,8))]*len(columnsToChoose)\n",
    "print(allDays)\n",
    "linearRegressionForColumnsForDaysIndepOfColumn(\"AAPL\", columnsToChoose, allDays)"
   ]
  },
  {
   "cell_type": "code",
   "execution_count": 39,
   "metadata": {
    "pycharm": {
     "is_executing": false
    }
   },
   "outputs": [],
   "source": [
    "def runAlgorithmForAllCompanies(chosenAlgo, parameters):\n",
    "    for stock in companyNames:\n",
    "        chosenAlgo(stock, *parameters)"
   ]
  },
  {
   "cell_type": "code",
   "execution_count": 40,
   "metadata": {
    "pycharm": {
     "is_executing": false
    }
   },
   "outputs": [
    {
     "name": "stdout",
     "text": [
      "AAPL\n",
      "Open 1\n",
      "Open 2\n",
      "Open 3\n",
      "Open 4\n",
      "Open 5\n",
      "Open 6\n",
      "Open 7\n",
      "Close 1\n",
      "Close 2\n",
      "Close 3\n",
      "Close 4\n",
      "Close 5\n",
      "Close 6\n",
      "Close 7\n",
      "0.9867671899919379\n",
      "[ 0.19125138  0.01573121 -0.16265672 -0.09060098  0.09575035 -0.15480548\n",
      " -0.10824737  0.902868   -0.28986729  0.24646926  0.09922313  0.02571238\n",
      "  0.12638826  0.12290455]\n",
      "-3.7760479943339362\n",
      "\n",
      "\n",
      "AMZN\n",
      "Open 1\n",
      "Open 2\n",
      "Open 3\n",
      "Open 4\n",
      "Open 5\n",
      "Open 6\n",
      "Open 7\n",
      "Close 1\n",
      "Close 2\n",
      "Close 3\n",
      "Close 4\n",
      "Close 5\n",
      "Close 6\n",
      "Close 7\n",
      "0.973438723539997\n",
      "[ 0.08169487  0.0903076  -0.04499004  0.01767385 -0.05306489 -0.0791144\n",
      " -0.10843126  0.9641146  -0.07676511  0.00667582 -0.12237473  0.12187423\n",
      "  0.15486597  0.01132784]\n",
      "66.72388614137526\n",
      "\n",
      "\n",
      "APRN\n",
      "Open 1\n",
      "Open 2\n",
      "Open 3\n",
      "Open 4\n",
      "Open 5\n",
      "Open 6\n",
      "Open 7\n",
      "Close 1\n",
      "Close 2\n",
      "Close 3\n",
      "Close 4\n",
      "Close 5\n",
      "Close 6\n",
      "Close 7\n",
      "0.9811432419021354\n",
      "[ 0.03381227  0.11548875  0.39058931  0.05284633  0.05859094 -0.1075408\n",
      " -0.02550956  0.9746063  -0.00332283 -0.20158693 -0.31432078 -0.02594064\n",
      " -0.08798014  0.11846426]\n",
      "0.15940344340955548\n",
      "\n",
      "\n",
      "BE\n",
      "Open 1\n",
      "Open 2\n",
      "Open 3\n",
      "Open 4\n",
      "Open 5\n",
      "Open 6\n",
      "Open 7\n",
      "Close 1\n",
      "Close 2\n",
      "Close 3\n",
      "Close 4\n",
      "Close 5\n",
      "Close 6\n",
      "Close 7\n",
      "0.9962501170735524\n",
      "[-0.24666348 -0.22199189 -0.1172555  -0.03085893  0.20597739  0.15041047\n",
      " -0.06281402  1.18109197  0.17396436  0.17900537  0.0492682   0.05510884\n",
      " -0.34169858  0.02517975]\n",
      "0.012625331832833098\n",
      "\n",
      "\n",
      "CRWD\n",
      "Open 1\n",
      "Open 2\n",
      "Open 3\n",
      "Open 4\n",
      "Open 5\n",
      "Open 6\n",
      "Open 7\n",
      "Close 1\n",
      "Close 2\n",
      "Close 3\n",
      "Close 4\n",
      "Close 5\n",
      "Close 6\n",
      "Close 7\n",
      "0.9863485801919262\n",
      "[ 0.01597362  0.00975899  0.04769554  0.0405435  -0.03045464  0.08379825\n",
      " -0.12075722  0.9729024   0.05768175 -0.0904705  -0.00376643 -0.01466938\n",
      " -0.03216698  0.06255965]\n",
      "0.10892760208950847\n",
      "\n",
      "\n",
      "LOVE.CN\n",
      "Open 1\n",
      "Open 2\n",
      "Open 3\n",
      "Open 4\n",
      "Open 5\n",
      "Open 6\n",
      "Open 7\n",
      "Close 1\n",
      "Close 2\n",
      "Close 3\n",
      "Close 4\n",
      "Close 5\n",
      "Close 6\n",
      "Close 7\n",
      "0.9154909067800334\n",
      "[ 0.32112695  0.01854059 -0.04010063 -0.02593356  0.01755501 -0.00593187\n",
      " -0.00279115  0.65484416 -0.08027517  0.13088637 -0.019508    0.12176347\n",
      " -0.00597713  0.00696585]\n",
      "-0.013436378819549871\n",
      "\n",
      "\n",
      "MNS.AX\n",
      "Open 1\n",
      "Open 2\n",
      "Open 3\n",
      "Open 4\n",
      "Open 5\n",
      "Open 6\n",
      "Open 7\n",
      "Close 1\n",
      "Close 2\n",
      "Close 3\n",
      "Close 4\n",
      "Close 5\n",
      "Close 6\n",
      "Close 7\n",
      "0.9657844134855729\n",
      "[ 0.12479825 -0.10511994  0.11695251  0.07577501 -0.15428682  0.07064227\n",
      " -0.1211878   0.78716661  0.08247658  0.07630546  0.01423425 -0.03629175\n",
      "  0.01803904  0.01562826]\n",
      "0.006748147984575431\n",
      "\n",
      "\n",
      "NFLX\n",
      "Open 1\n",
      "Open 2\n",
      "Open 3\n",
      "Open 4\n",
      "Open 5\n",
      "Open 6\n",
      "Open 7\n",
      "Close 1\n",
      "Close 2\n",
      "Close 3\n",
      "Close 4\n",
      "Close 5\n",
      "Close 6\n",
      "Close 7\n",
      "0.9759299016753048\n",
      "[-0.1670546  -0.27699933 -0.22501543 -0.24071421  0.05024043 -0.16789261\n",
      "  0.02274372  1.09881137  0.20888146  0.28030812  0.22667424  0.0151447\n",
      "  0.12288958  0.03355274]\n",
      "5.011415050912092\n",
      "\n",
      "\n",
      "PBYI\n",
      "Open 1\n",
      "Open 2\n",
      "Open 3\n",
      "Open 4\n",
      "Open 5\n",
      "Open 6\n",
      "Open 7\n",
      "Close 1\n",
      "Close 2\n",
      "Close 3\n",
      "Close 4\n",
      "Close 5\n",
      "Close 6\n",
      "Close 7\n",
      "0.9793848457157303\n",
      "[-0.07560437 -0.06197361 -0.19189052  0.05151052  0.05601937  0.0082743\n",
      " -0.0449832   1.08119531 -0.02781562  0.07673647  0.23131553 -0.09293712\n",
      "  0.00638021 -0.01425453]\n",
      "0.01566569155532349\n",
      "\n",
      "\n",
      "SPOT\n",
      "Open 1\n",
      "Open 2\n",
      "Open 3\n",
      "Open 4\n",
      "Open 5\n",
      "Open 6\n",
      "Open 7\n",
      "Close 1\n",
      "Close 2\n",
      "Close 3\n",
      "Close 4\n",
      "Close 5\n",
      "Close 6\n",
      "Close 7\n",
      "0.9883676497846281\n",
      "[-0.12675215  0.00955009  0.15728314  0.14350241  0.0650192   0.03064453\n",
      " -0.05386403  1.01386325  0.0447145  -0.04425716 -0.14071486 -0.06947705\n",
      " -0.13724717  0.07669407]\n",
      "4.313856523525715\n",
      "\n",
      "\n",
      "TSLA\n",
      "Open 1\n",
      "Open 2\n",
      "Open 3\n",
      "Open 4\n",
      "Open 5\n",
      "Open 6\n",
      "Open 7\n",
      "Close 1\n",
      "Close 2\n",
      "Close 3\n",
      "Close 4\n",
      "Close 5\n",
      "Close 6\n",
      "Close 7\n",
      "0.9556236208335191\n",
      "[ 0.17019525  0.18076696 -0.03387138  0.0708804   0.17869113 -0.02549462\n",
      " -0.08069749  0.82310789 -0.09753647 -0.09081435 -0.13455506  0.0034712\n",
      " -0.02566058  0.06337086]\n",
      "0.32072028912745054\n",
      "\n",
      "\n",
      "UBER\n",
      "Open 1\n",
      "Open 2\n",
      "Open 3\n",
      "Open 4\n",
      "Open 5\n",
      "Open 6\n",
      "Open 7\n",
      "Close 1\n",
      "Close 2\n",
      "Close 3\n",
      "Close 4\n",
      "Close 5\n",
      "Close 6\n",
      "Close 7\n",
      "0.9882109003447798\n",
      "[-0.11533682  0.09080316  0.16933605 -0.00347406  0.21641693  0.15665484\n",
      " -0.15166466  1.03391303 -0.0840432   0.07674214 -0.17807484 -0.00739809\n",
      " -0.27403595  0.06780751]\n",
      "0.02704579407238583\n",
      "\n",
      "\n",
      "WORK\n",
      "Open 1\n",
      "Open 2\n",
      "Open 3\n",
      "Open 4\n",
      "Open 5\n",
      "Open 6\n",
      "Open 7\n",
      "Close 1\n",
      "Close 2\n",
      "Close 3\n",
      "Close 4\n",
      "Close 5\n",
      "Close 6\n",
      "Close 7\n",
      "0.9856098580094113\n",
      "[ 0.09624857  0.07338104  0.08737091 -0.0108311   0.02860546 -0.06520815\n",
      "  0.0902396   0.77593785  0.01669352  0.08235639 -0.15645925 -0.03322783\n",
      "  0.11365525 -0.10476149]\n",
      "-0.00571189723054033\n",
      "\n",
      "\n"
     ],
     "output_type": "stream"
    }
   ],
   "source": [
    "columnsToChoose = [\"Open\", \"Close\"]\n",
    "allDays = [list(range(1,8))]*len(columnsToChoose)\n",
    "params = (columnsToChoose, allDays)\n",
    "runAlgorithmForAllCompanies(linearRegressionForColumnsForDaysIndepOfColumn, params)"
   ]
  },
  {
   "cell_type": "code",
   "execution_count": 41,
   "metadata": {
    "pycharm": {
     "is_executing": false
    }
   },
   "outputs": [],
   "source": [
    "def polynomialRegressionForColumnsForDaysIndepOfColumn(stock, columnsToChoose, allDays):\n",
    "    print(stock)\n",
    "    columnData = []\n",
    "    for index, column in enumerate(columnsToChoose):\n",
    "        maxDay = max(allDays[index])\n",
    "        for day in allDays[index]:\n",
    "            print(column, day)\n",
    "            columnData.append(mergedDf[stock + column].dropna()[maxDay - day:-day])\n",
    "    columnData = tuple(columnData)\n",
    "    X = np.array(list(zip(*columnData)))\n",
    "    Y = np.array(mergedDf[stock + \"Open\"].dropna())[maxDay:]\n",
    "    reg = LinearRegression().fit(X, Y)\n",
    "    print(reg.score(X,Y))\n",
    "    print(reg.coef_)\n",
    "    print(reg.intercept_)\n",
    "    print(\"\\n\")"
   ]
  },
  {
   "cell_type": "code",
   "execution_count": 41,
   "metadata": {
    "pycharm": {
     "is_executing": false
    }
   },
   "outputs": [],
   "source": []
  },
  {
   "cell_type": "code",
   "execution_count": 41,
   "metadata": {
    "pycharm": {
     "is_executing": false
    }
   },
   "outputs": [],
   "source": []
  },
  {
   "cell_type": "code",
   "execution_count": 41,
   "metadata": {
    "pycharm": {
     "is_executing": false
    }
   },
   "outputs": [],
   "source": []
  },
  {
   "cell_type": "code",
   "execution_count": 41,
   "metadata": {
    "pycharm": {
     "is_executing": false
    }
   },
   "outputs": [],
   "source": []
  },
  {
   "cell_type": "code",
   "execution_count": 41,
   "metadata": {
    "pycharm": {
     "is_executing": false
    }
   },
   "outputs": [],
   "source": []
  },
  {
   "cell_type": "code",
   "execution_count": 41,
   "metadata": {
    "pycharm": {
     "is_executing": false
    }
   },
   "outputs": [],
   "source": []
  }
 ],
 "metadata": {
  "kernelspec": {
   "display_name": "Python 3",
   "language": "python",
   "name": "python3"
  },
  "language_info": {
   "codemirror_mode": {
    "name": "ipython",
    "version": 3
   },
   "file_extension": ".py",
   "mimetype": "text/x-python",
   "name": "python",
   "nbconvert_exporter": "python",
   "pygments_lexer": "ipython3",
   "version": "3.6.0"
  },
  "pycharm": {
   "stem_cell": {
    "cell_type": "raw",
    "source": [],
    "metadata": {
     "collapsed": false
    }
   }
  }
 },
 "nbformat": 4,
 "nbformat_minor": 2
}