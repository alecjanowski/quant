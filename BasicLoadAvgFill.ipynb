{
 "cells": [
  {
   "cell_type": "code",
   "execution_count": null,
   "metadata": {},
   "outputs": [],
   "source": [
    "import sys\n",
    "sys.float_info\n",
    "#Should reveal that floats have 8 bytes"
   ]
  },
  {
   "cell_type": "code",
   "execution_count": null,
   "metadata": {},
   "outputs": [],
   "source": [
    "MD = \"metaData\"\n",
    "Indep = \"trainIndependents\"\n",
    "Dep = \"trainDependent\"\n",
    "fileNames = [MD, Indep, Dep]"
   ]
  },
  {
   "cell_type": "code",
   "execution_count": null,
   "metadata": {},
   "outputs": [],
   "source": [
    "import math ##For basic mathematical operations\n",
    "import matplotlib.pyplot as plt\n",
    "import dask.dataframe as dd  \n",
    "from IPython import display ## Plot setup for Ipython\n",
    "from matplotlib import cm ##  Colormap reference\n",
    "from matplotlib import gridspec ##plot setups\n",
    "from matplotlib import pyplot as plt ##plot setups\n",
    "import numpy as np \n",
    "import pandas as pd\n",
    "from sklearn.linear_model import LinearRegression\n",
    "from tqdm import tqdm\n",
    "import collections\n",
    "import warnings\n",
    "# warnings.filterwarnings(\"ignore\") - may want to ignore, if know what you are doing, but can be helpful\n",
    "# warnings.filterwarnings(action = \"once\") - may want to show only once\n",
    "# from Queue import priority_queue"
   ]
  },
  {
   "cell_type": "code",
   "execution_count": null,
   "metadata": {},
   "outputs": [],
   "source": [
    "#takes about 1:30 for me\n",
    "frames = []\n",
    "\n",
    "for index, fileName in tqdm(enumerate(fileNames)):\n",
    "    frames.append(dd.read_csv(\"./TestData/\" + fileName + \".csv\", sep=\",\", sample = 2000000))"
   ]
  },
  {
   "cell_type": "code",
   "execution_count": null,
   "metadata": {},
   "outputs": [],
   "source": [
    "#about 8 seconds\n",
    "for i in tqdm(range(len(frames))):\n",
    "    frames[i] = frames[i].fillna(frames[i].mean())"
   ]
  },
  {
   "cell_type": "code",
   "execution_count": null,
   "metadata": {},
   "outputs": [],
   "source": [
    "#15 seco\n",
    "frames[-1].compute()"
   ]
  }
 ],
 "metadata": {
  "kernelspec": {
   "display_name": "Python 3",
   "language": "python",
   "name": "python3"
  },
  "language_info": {
   "codemirror_mode": {
    "name": "ipython",
    "version": 3
   },
   "file_extension": ".py",
   "mimetype": "text/x-python",
   "name": "python",
   "nbconvert_exporter": "python",
   "pygments_lexer": "ipython3",
   "version": "3.7.4"
  }
 },
 "nbformat": 4,
 "nbformat_minor": 2
}
