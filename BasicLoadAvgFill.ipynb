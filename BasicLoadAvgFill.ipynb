{
 "cells": [
  {
   "cell_type": "code",
   "execution_count": 2,
   "metadata": {
    "pycharm": {
     "is_executing": false,
     "name": "#%%\n"
    }
   },
   "outputs": [
    {
     "data": {
      "text/plain": [
       "sys.float_info(max=1.7976931348623157e+308, max_exp=1024, max_10_exp=308, min=2.2250738585072014e-308, min_exp=-1021, min_10_exp=-307, dig=15, mant_dig=53, epsilon=2.220446049250313e-16, radix=2, rounds=1)"
      ]
     },
     "execution_count": 2,
     "metadata": {},
     "output_type": "execute_result"
    }
   ],
   "source": [
    "import sys\n",
    "sys.float_info\n",
    "#Should reveal that floats have 8 bytes"
   ]
  },
  {
   "cell_type": "code",
   "execution_count": 3,
   "metadata": {
    "pycharm": {
     "is_executing": false,
     "name": "#%%\n"
    }
   },
   "outputs": [],
   "source": [
    "MD = \"metaData\"\n",
    "Indep = \"trainIndependents\"\n",
    "Dep = \"trainDependent\"\n",
    "fileNames = [MD, Indep, Dep]"
   ]
  },
  {
   "cell_type": "code",
   "execution_count": 4,
   "metadata": {
    "pycharm": {
     "is_executing": false,
     "name": "#%%\n"
    }
   },
   "outputs": [],
   "source": [
    "import math ##For basic mathematical operations\n",
    "import matplotlib.pyplot as plt\n",
    "import dask.dataframe as dd  \n",
    "from IPython import display ## Plot setup for Ipython\n",
    "from matplotlib import cm ##  Colormap reference\n",
    "from matplotlib import gridspec ##plot setups\n",
    "from matplotlib import pyplot as plt ##plot setups\n",
    "import numpy as np \n",
    "import pandas as pd\n",
    "from sklearn.linear_model import LinearRegression\n",
    "from tqdm import tqdm\n",
    "import collections\n",
    "import warnings\n",
    "# warnings.filterwarnings(\"ignore\") - may want to ignore, if know what you are doing, but can be helpful\n",
    "# warnings.filterwarnings(action = \"once\") - may want to show only once\n",
    "# from Queue import priority_queue"
   ]
  },
  {
   "cell_type": "code",
   "execution_count": 5,
   "metadata": {
    "pycharm": {
     "is_executing": false,
     "name": "#%%\n"
    }
   },
   "outputs": [
    {
     "name": "stderr",
     "output_type": "stream",
     "text": [
      "3it [02:25, 48.63s/it]\n"
     ]
    }
   ],
   "source": [
    "#LOAD FRAMES WITH CSV CONTENTS FOR 0: INDEPENDENTS 1: DEPENDENTS\n",
    "frames = []\n",
    "for index, fileName in tqdm(enumerate(fileNames)):\n",
    "    frame = dd.read_csv(\"./TestData/\" + fileName + \".csv\", sep=\",\", sample = 2000000)\n",
    "    if(fileName != 'metaData'):\n",
    "        frames.append(frame)"
   ]
  },
  {
   "cell_type": "code",
   "execution_count": 6,
   "metadata": {
    "pycharm": {
     "is_executing": false,
     "name": "#%%\n"
    }
   },
   "outputs": [
    {
     "name": "stderr",
     "output_type": "stream",
     "text": [
      "100%|██████████| 2/2 [00:02<00:00,  1.38s/it]\n"
     ]
    }
   ],
   "source": [
    "#HANDLES NAs ! \n",
    "#about 8 seconds\n",
    "for i in tqdm(range(len(frames))):\n",
    "    frames[i] = frames[i].fillna(0)"
   ]
  },
  {
   "cell_type": "code",
   "execution_count": 7,
   "metadata": {
    "pycharm": {
     "is_executing": true,
     "name": "#%%\n"
    }
   },
   "outputs": [
    {
     "name": "stdout",
     "output_type": "stream",
     "text": [
      "[[-0.00289249 -0.00289249 -0.00289249 ...  0.          0.\n",
      "   0.        ]\n",
      " [ 0.00257159 -0.00190301 -0.00190301 ...  0.          0.\n",
      "   0.        ]]\n"
     ]
    }
   ],
   "source": [
    "X = frames[0].iloc[:, 1:].to_dask_array(lengths=True) \n",
    "y = frames[1].iloc[:, 1:].to_dask_array(lengths=True)\n",
    "\n",
    "X = np.array(X)\n",
    "y = np.array(y)\n",
    "\n",
    "#data split, difference between row indices yields the number of TIMES included in the dataset\n",
    "xtrain = X[14:16, :]\n",
    "ytrain = y[14:94, :]\n",
    "\n",
    "xtest = X[94:114, :]\n",
    "ytest = y[94:114, :]"
   ]
  },
  {
   "cell_type": "code",
   "execution_count": null,
   "outputs": [],
   "source": [
    "NUM_INDEPENDENT = 20\n",
    "NUM_SYMBOLS = 1154\n",
    "#how many times \"20070103_13500\" to include in building the symbol training sets, must be precise to avoid training on extra zeros\n",
    "NUM_TIMES = 2\n",
    "\n",
    "symbol_training_sets = np.zeros(shape=(NUM_SYMBOLS, NUM_TIMES), dtype = tuple)\n",
    "\n",
    "for i in range(len(xtrain)):\n",
    "    for j in range(NUM_SYMBOLS):\n",
    "        independents = []\n",
    "        #print(independents)\n",
    "        for k in range(NUM_INDEPENDENT):\n",
    "            independents.append(xtrain[i][j*NUM_INDEPENDENT + k])     \n",
    "        symbol_training_sets[j,i] =(independents, ytrain[i][j])\n",
    "\n",
    "symbol = 0\n",
    "#prints a training set for the given symbol\n",
    "print(symbol_training_sets[symbol])\n",
    "\n"
   ],
   "metadata": {
    "collapsed": false,
    "pycharm": {
     "name": "#%%\n"
    }
   }
  },
  {
   "cell_type": "code",
   "execution_count": 9,
   "metadata": {},
   "outputs": [
    {
     "name": "stdout",
     "output_type": "stream",
     "text": [
      "2\n"
     ]
    }
   ],
   "source": []
  },
  {
   "cell_type": "code",
   "execution_count": 11,
   "metadata": {},
   "outputs": [
    {
     "ename": "IndexError",
     "evalue": "only integers, slices (`:`), ellipsis (`...`), numpy.newaxis (`None`) and integer or boolean arrays are valid indices",
     "output_type": "error",
     "traceback": [
      "\u001b[0;31m---------------------------------------------------------------------------\u001b[0m",
      "\u001b[0;31mIndexError\u001b[0m                                Traceback (most recent call last)",
      "\u001b[0;32m<ipython-input-11-7381e9df7330>\u001b[0m in \u001b[0;36m<module>\u001b[0;34m\u001b[0m\n\u001b[1;32m      1\u001b[0m \u001b[0;32mfor\u001b[0m \u001b[0mi\u001b[0m \u001b[0;32min\u001b[0m \u001b[0mxtrain\u001b[0m\u001b[0;34m[\u001b[0m\u001b[0;36m0\u001b[0m\u001b[0;34m]\u001b[0m\u001b[0;34m:\u001b[0m\u001b[0;34m\u001b[0m\u001b[0m\n\u001b[0;32m----> 2\u001b[0;31m     \u001b[0mprint\u001b[0m\u001b[0;34m(\u001b[0m\u001b[0mxtrain\u001b[0m\u001b[0;34m[\u001b[0m\u001b[0;36m0\u001b[0m\u001b[0;34m]\u001b[0m\u001b[0;34m[\u001b[0m\u001b[0mi\u001b[0m\u001b[0;34m]\u001b[0m\u001b[0;34m)\u001b[0m\u001b[0;34m\u001b[0m\u001b[0m\n\u001b[0m",
      "\u001b[0;31mIndexError\u001b[0m: only integers, slices (`:`), ellipsis (`...`), numpy.newaxis (`None`) and integer or boolean arrays are valid indices"
     ]
    }
   ],
   "source": [
    "for i in range(len(xtrain[0])):\n",
    "    print(xtrain[0][i])"
   ]
  },
  {
   "cell_type": "code",
   "execution_count": null,
   "metadata": {},
   "outputs": [],
   "source": []
  }
 ],
 "metadata": {
  "kernelspec": {
   "display_name": "Python 3",
   "language": "python",
   "name": "python3"
  },
  "language_info": {
   "codemirror_mode": {
    "name": "ipython",
    "version": 3
   },
   "file_extension": ".py",
   "mimetype": "text/x-python",
   "name": "python",
   "nbconvert_exporter": "python",
   "pygments_lexer": "ipython3",
   "version": "3.6.0"
  },
  "pycharm": {
   "stem_cell": {
    "cell_type": "raw",
    "source": [],
    "metadata": {
     "collapsed": false
    }
   }
  }
 },
 "nbformat": 4,
 "nbformat_minor": 2
}