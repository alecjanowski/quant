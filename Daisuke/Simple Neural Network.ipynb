{
 "cells": [
  {
   "cell_type": "code",
   "execution_count": 7,
   "metadata": {},
   "outputs": [],
   "source": [
    "import tensorflow as tf"
   ]
  },
  {
   "cell_type": "code",
   "execution_count": 8,
   "metadata": {},
   "outputs": [],
   "source": [
    "import keras\n",
    "import matplotlib.pyplot as plt\n",
    "import pandas as pd\n",
    "import numpy as np"
   ]
  },
  {
   "cell_type": "code",
   "execution_count": 9,
   "metadata": {},
   "outputs": [],
   "source": [
    "m = 2\n",
    "b = 3\n",
    "x = np.linspace(0, 50, 100)"
   ]
  },
  {
   "cell_type": "code",
   "execution_count": 12,
   "metadata": {},
   "outputs": [],
   "source": [
    "np.random.seed(101)\n",
    "noise = np.random.normal(loc=0, scale=4, size=len(x))"
   ]
  },
  {
   "cell_type": "code",
   "execution_count": 13,
   "metadata": {},
   "outputs": [],
   "source": [
    "y = 2*x + b + noise"
   ]
  },
  {
   "cell_type": "code",
   "execution_count": 16,
   "metadata": {},
   "outputs": [
    {
     "data": {
      "image/png": "[encoded data removed]",
      "text/plain": [
       "<Figure size 432x288 with 1 Axes>"
      ]
     },
     "metadata": {
      "needs_background": "light"
     },
     "output_type": "display_data"
    }
   ],
   "source": [
    "plt.plot(x, y, '*')\n",
    "plt.show()"
   ]
  },
  {
   "cell_type": "code",
   "execution_count": 17,
   "metadata": {},
   "outputs": [],
   "source": [
    "from keras.models import Sequential"
   ]
  },
  {
   "cell_type": "code",
   "execution_count": 18,
   "metadata": {},
   "outputs": [],
   "source": [
    "from keras.layers import Dense #\"Dense\" means all the neurons from the previous layer are connected to the next layer"
   ]
  },
  {
   "cell_type": "code",
   "execution_count": 53,
   "metadata": {},
   "outputs": [],
   "source": [
    "model = Sequential()\n",
    "#Creating the first hidden layer\n",
    "model.add(Dense(4, input_dim=1, activation='relu'))\n",
    "#\"4\" is the number of neurons in the hidden layer\n",
    "# \"input_dim\" is the number of features.\n",
    "\n",
    "#Creating the second hidden layer\n",
    "model.add(Dense(4, activation='relu'))\n",
    "\n",
    "#Creating the output layer\n",
    "model.add(Dense(1,activation='linear')) #Choise \"linear\" because we are doing a linear regression\n",
    "\n",
    "model.compile(loss='mse', optimizer='adam')\n"
   ]
  },
  {
   "cell_type": "code",
   "execution_count": 54,
   "metadata": {},
   "outputs": [
    {
     "ename": "IndentationError",
     "evalue": "unexpected indent (<ipython-input-54-3d7b949b9f77>, line 2)",
     "output_type": "error",
     "traceback": [
      "\u001b[0;36m  File \u001b[0;32m\"<ipython-input-54-3d7b949b9f77>\"\u001b[0;36m, line \u001b[0;32m2\u001b[0m\n\u001b[0;31m    \"\"\"The meaning of Output Shape:\u001b[0m\n\u001b[0m    ^\u001b[0m\n\u001b[0;31mIndentationError\u001b[0m\u001b[0;31m:\u001b[0m unexpected indent\n"
     ]
    }
   ],
   "source": [
    "model.summary()\n",
    "    \"\"\"The meaning of Output Shape:\n",
    "    It is the shape of each layer\n",
    "    \n",
    "    The meaning of Param#:\n",
    "    It is (the number of weights) + (the number of biases)\n",
    "    8 = 4 * 1 + 4\n",
    "    20 = 4 * 4 + 4\n",
    "    5 = 4 * 1 + 1\n",
    "    \"\"\""
   ]
  },
  {
   "cell_type": "code",
   "execution_count": 58,
   "metadata": {},
   "outputs": [
    {
     "name": "stdout",
     "output_type": "stream",
     "text": [
      "Epoch 1/200\n",
      "100/100 [==============================] - 0s 898us/step - loss: 3483.7777\n",
      "Epoch 2/200\n",
      "100/100 [==============================] - 0s 61us/step - loss: 3469.8414\n",
      "Epoch 3/200\n",
      "100/100 [==============================] - 0s 90us/step - loss: 3455.2427\n",
      "Epoch 4/200\n",
      "100/100 [==============================] - 0s 73us/step - loss: 3440.5693\n",
      "Epoch 5/200\n",
      "100/100 [==============================] - 0s 88us/step - loss: 3425.8031\n",
      "Epoch 6/200\n",
      "100/100 [==============================] - 0s 88us/step - loss: 3410.5816\n",
      "Epoch 7/200\n",
      "100/100 [==============================] - 0s 93us/step - loss: 3395.4255\n",
      "Epoch 8/200\n",
      "100/100 [==============================] - 0s 74us/step - loss: 3379.6778\n",
      "Epoch 9/200\n",
      "100/100 [==============================] - 0s 76us/step - loss: 3362.8737\n",
      "Epoch 10/200\n",
      "100/100 [==============================] - 0s 83us/step - loss: 3346.6434\n",
      "Epoch 11/200\n",
      "100/100 [==============================] - 0s 72us/step - loss: 3328.7179\n",
      "Epoch 12/200\n",
      "100/100 [==============================] - 0s 68us/step - loss: 3311.6611\n",
      "Epoch 13/200\n",
      "100/100 [==============================] - 0s 63us/step - loss: 3294.6049\n",
      "Epoch 14/200\n",
      "100/100 [==============================] - 0s 62us/step - loss: 3276.7906\n",
      "Epoch 15/200\n",
      "100/100 [==============================] - 0s 61us/step - loss: 3258.4392\n",
      "Epoch 16/200\n",
      "100/100 [==============================] - 0s 69us/step - loss: 3240.2309\n",
      "Epoch 17/200\n",
      "100/100 [==============================] - 0s 53us/step - loss: 3220.9077\n",
      "Epoch 18/200\n",
      "100/100 [==============================] - 0s 60us/step - loss: 3200.9445\n",
      "Epoch 19/200\n",
      "100/100 [==============================] - 0s 64us/step - loss: 3181.1078\n",
      "Epoch 20/200\n",
      "100/100 [==============================] - 0s 66us/step - loss: 3161.2725\n",
      "Epoch 21/200\n",
      "100/100 [==============================] - 0s 60us/step - loss: 3140.9418\n",
      "Epoch 22/200\n",
      "100/100 [==============================] - 0s 61us/step - loss: 3119.3504\n",
      "Epoch 23/200\n",
      "100/100 [==============================] - 0s 72us/step - loss: 3098.1711\n",
      "Epoch 24/200\n",
      "100/100 [==============================] - 0s 69us/step - loss: 3077.2364\n",
      "Epoch 25/200\n",
      "100/100 [==============================] - 0s 62us/step - loss: 3055.0252\n",
      "Epoch 26/200\n",
      "100/100 [==============================] - 0s 70us/step - loss: 3033.0800\n",
      "Epoch 27/200\n",
      "100/100 [==============================] - 0s 61us/step - loss: 3009.0696\n",
      "Epoch 28/200\n",
      "100/100 [==============================] - 0s 61us/step - loss: 2984.3327\n",
      "Epoch 29/200\n",
      "100/100 [==============================] - 0s 53us/step - loss: 2959.2459\n",
      "Epoch 30/200\n",
      "100/100 [==============================] - 0s 64us/step - loss: 2934.9615\n",
      "Epoch 31/200\n",
      "100/100 [==============================] - 0s 63us/step - loss: 2909.5070\n",
      "Epoch 32/200\n",
      "100/100 [==============================] - 0s 50us/step - loss: 2882.7813\n",
      "Epoch 33/200\n",
      "100/100 [==============================] - 0s 58us/step - loss: 2856.3930\n",
      "Epoch 34/200\n",
      "100/100 [==============================] - 0s 49us/step - loss: 2830.7080\n",
      "Epoch 35/200\n",
      "100/100 [==============================] - 0s 62us/step - loss: 2803.5904\n",
      "Epoch 36/200\n",
      "100/100 [==============================] - 0s 54us/step - loss: 2776.8549\n",
      "Epoch 37/200\n",
      "100/100 [==============================] - 0s 54us/step - loss: 2748.2789\n",
      "Epoch 38/200\n",
      "100/100 [==============================] - 0s 70us/step - loss: 2719.3095\n",
      "Epoch 39/200\n",
      "100/100 [==============================] - 0s 53us/step - loss: 2688.8615\n",
      "Epoch 40/200\n",
      "100/100 [==============================] - 0s 53us/step - loss: 2658.8789\n",
      "Epoch 41/200\n",
      "100/100 [==============================] - 0s 63us/step - loss: 2626.5476\n",
      "Epoch 42/200\n",
      "100/100 [==============================] - 0s 48us/step - loss: 2593.5214\n",
      "Epoch 43/200\n",
      "100/100 [==============================] - 0s 68us/step - loss: 2562.6325\n",
      "Epoch 44/200\n",
      "100/100 [==============================] - 0s 55us/step - loss: 2530.1975\n",
      "Epoch 45/200\n",
      "100/100 [==============================] - 0s 54us/step - loss: 2497.8366\n",
      "Epoch 46/200\n",
      "100/100 [==============================] - 0s 59us/step - loss: 2464.1545\n",
      "Epoch 47/200\n",
      "100/100 [==============================] - 0s 50us/step - loss: 2431.1028\n",
      "Epoch 48/200\n",
      "100/100 [==============================] - 0s 59us/step - loss: 2397.1204\n",
      "Epoch 49/200\n",
      "100/100 [==============================] - 0s 51us/step - loss: 2363.3870\n",
      "Epoch 50/200\n",
      "100/100 [==============================] - 0s 53us/step - loss: 2330.6642\n",
      "Epoch 51/200\n",
      "100/100 [==============================] - 0s 58us/step - loss: 2294.4132\n",
      "Epoch 52/200\n",
      "100/100 [==============================] - 0s 50us/step - loss: 2258.9019\n",
      "Epoch 53/200\n",
      "100/100 [==============================] - 0s 62us/step - loss: 2222.8107\n",
      "Epoch 54/200\n",
      "100/100 [==============================] - 0s 58us/step - loss: 2186.4037\n",
      "Epoch 55/200\n",
      "100/100 [==============================] - 0s 50us/step - loss: 2150.5956\n",
      "Epoch 56/200\n",
      "100/100 [==============================] - 0s 47us/step - loss: 2114.1213\n",
      "Epoch 57/200\n",
      "100/100 [==============================] - 0s 50us/step - loss: 2077.3889\n",
      "Epoch 58/200\n",
      "100/100 [==============================] - 0s 54us/step - loss: 2037.4211\n",
      "Epoch 59/200\n",
      "100/100 [==============================] - 0s 57us/step - loss: 1998.5417\n",
      "Epoch 60/200\n",
      "100/100 [==============================] - 0s 47us/step - loss: 1960.2279\n",
      "Epoch 61/200\n",
      "100/100 [==============================] - 0s 55us/step - loss: 1921.3371\n",
      "Epoch 62/200\n",
      "100/100 [==============================] - 0s 44us/step - loss: 1883.9368\n",
      "Epoch 63/200\n",
      "100/100 [==============================] - 0s 45us/step - loss: 1844.0858\n",
      "Epoch 64/200\n",
      "100/100 [==============================] - 0s 44us/step - loss: 1805.2594\n",
      "Epoch 65/200\n",
      "100/100 [==============================] - 0s 55us/step - loss: 1765.5403\n",
      "Epoch 66/200\n",
      "100/100 [==============================] - 0s 51us/step - loss: 1725.6830\n",
      "Epoch 67/200\n",
      "100/100 [==============================] - 0s 48us/step - loss: 1684.4663\n",
      "Epoch 68/200\n",
      "100/100 [==============================] - 0s 52us/step - loss: 1645.7475\n",
      "Epoch 69/200\n",
      "100/100 [==============================] - 0s 55us/step - loss: 1606.3297\n",
      "Epoch 70/200\n",
      "100/100 [==============================] - 0s 57us/step - loss: 1567.6630\n",
      "Epoch 71/200\n",
      "100/100 [==============================] - 0s 64us/step - loss: 1527.6102\n",
      "Epoch 72/200\n",
      "100/100 [==============================] - 0s 48us/step - loss: 1490.8408\n",
      "Epoch 73/200\n",
      "100/100 [==============================] - 0s 42us/step - loss: 1453.1420\n",
      "Epoch 74/200\n",
      "100/100 [==============================] - 0s 41us/step - loss: 1415.1483\n",
      "Epoch 75/200\n",
      "100/100 [==============================] - 0s 43us/step - loss: 1377.4504\n",
      "Epoch 76/200\n",
      "100/100 [==============================] - 0s 52us/step - loss: 1337.6950\n",
      "Epoch 77/200\n",
      "100/100 [==============================] - 0s 61us/step - loss: 1301.8878\n",
      "Epoch 78/200\n",
      "100/100 [==============================] - 0s 48us/step - loss: 1264.2809\n",
      "Epoch 79/200\n",
      "100/100 [==============================] - 0s 45us/step - loss: 1229.8495\n",
      "Epoch 80/200\n",
      "100/100 [==============================] - 0s 51us/step - loss: 1194.1460\n",
      "Epoch 81/200\n",
      "100/100 [==============================] - 0s 47us/step - loss: 1156.3622\n",
      "Epoch 82/200\n",
      "100/100 [==============================] - 0s 59us/step - loss: 1119.7750\n",
      "Epoch 83/200\n",
      "100/100 [==============================] - 0s 51us/step - loss: 1084.6941\n",
      "Epoch 84/200\n",
      "100/100 [==============================] - 0s 52us/step - loss: 1048.1554\n",
      "Epoch 85/200\n",
      "100/100 [==============================] - 0s 52us/step - loss: 1014.2216\n",
      "Epoch 86/200\n",
      "100/100 [==============================] - 0s 42us/step - loss: 980.4774\n",
      "Epoch 87/200\n",
      "100/100 [==============================] - 0s 45us/step - loss: 946.3616\n",
      "Epoch 88/200\n",
      "100/100 [==============================] - 0s 51us/step - loss: 914.0721\n",
      "Epoch 89/200\n",
      "100/100 [==============================] - 0s 46us/step - loss: 881.7517\n",
      "Epoch 90/200\n",
      "100/100 [==============================] - 0s 49us/step - loss: 851.1122\n",
      "Epoch 91/200\n",
      "100/100 [==============================] - 0s 58us/step - loss: 818.7632\n",
      "Epoch 92/200\n",
      "100/100 [==============================] - 0s 46us/step - loss: 788.9808\n",
      "Epoch 93/200\n",
      "100/100 [==============================] - 0s 48us/step - loss: 758.0096\n",
      "Epoch 94/200\n",
      "100/100 [==============================] - 0s 59us/step - loss: 726.5393\n",
      "Epoch 95/200\n"
     ]
    },
    {
     "name": "stdout",
     "output_type": "stream",
     "text": [
      "100/100 [==============================] - 0s 76us/step - loss: 696.8997\n",
      "Epoch 96/200\n",
      "100/100 [==============================] - 0s 58us/step - loss: 666.6588\n",
      "Epoch 97/200\n",
      "100/100 [==============================] - 0s 59us/step - loss: 639.1271\n",
      "Epoch 98/200\n",
      "100/100 [==============================] - 0s 53us/step - loss: 610.4488\n",
      "Epoch 99/200\n",
      "100/100 [==============================] - 0s 51us/step - loss: 581.4370\n",
      "Epoch 100/200\n",
      "100/100 [==============================] - 0s 45us/step - loss: 552.9965\n",
      "Epoch 101/200\n",
      "100/100 [==============================] - 0s 55us/step - loss: 527.0929\n",
      "Epoch 102/200\n",
      "100/100 [==============================] - 0s 65us/step - loss: 501.0918\n",
      "Epoch 103/200\n",
      "100/100 [==============================] - 0s 42us/step - loss: 475.9833\n",
      "Epoch 104/200\n",
      "100/100 [==============================] - 0s 52us/step - loss: 451.6341\n",
      "Epoch 105/200\n",
      "100/100 [==============================] - 0s 46us/step - loss: 427.3972\n",
      "Epoch 106/200\n",
      "100/100 [==============================] - 0s 41us/step - loss: 405.0546\n",
      "Epoch 107/200\n",
      "100/100 [==============================] - 0s 51us/step - loss: 383.9645\n",
      "Epoch 108/200\n",
      "100/100 [==============================] - 0s 50us/step - loss: 363.6474\n",
      "Epoch 109/200\n",
      "100/100 [==============================] - 0s 39us/step - loss: 343.3262\n",
      "Epoch 110/200\n",
      "100/100 [==============================] - 0s 48us/step - loss: 324.7871\n",
      "Epoch 111/200\n",
      "100/100 [==============================] - 0s 49us/step - loss: 306.4120\n",
      "Epoch 112/200\n",
      "100/100 [==============================] - 0s 55us/step - loss: 288.3720\n",
      "Epoch 113/200\n",
      "100/100 [==============================] - 0s 52us/step - loss: 271.6116\n",
      "Epoch 114/200\n",
      "100/100 [==============================] - 0s 55us/step - loss: 255.3339\n",
      "Epoch 115/200\n",
      "100/100 [==============================] - 0s 42us/step - loss: 240.8029\n",
      "Epoch 116/200\n",
      "100/100 [==============================] - 0s 45us/step - loss: 225.7550\n",
      "Epoch 117/200\n",
      "100/100 [==============================] - 0s 48us/step - loss: 211.9921\n",
      "Epoch 118/200\n",
      "100/100 [==============================] - 0s 53us/step - loss: 197.5634\n",
      "Epoch 119/200\n",
      "100/100 [==============================] - 0s 50us/step - loss: 184.3449\n",
      "Epoch 120/200\n",
      "100/100 [==============================] - 0s 57us/step - loss: 171.9949\n",
      "Epoch 121/200\n",
      "100/100 [==============================] - 0s 47us/step - loss: 159.8042\n",
      "Epoch 122/200\n",
      "100/100 [==============================] - 0s 50us/step - loss: 148.7325\n",
      "Epoch 123/200\n",
      "100/100 [==============================] - 0s 47us/step - loss: 138.5065\n",
      "Epoch 124/200\n",
      "100/100 [==============================] - 0s 50us/step - loss: 129.1254\n",
      "Epoch 125/200\n",
      "100/100 [==============================] - 0s 48us/step - loss: 120.0932\n",
      "Epoch 126/200\n",
      "100/100 [==============================] - 0s 41us/step - loss: 112.0630\n",
      "Epoch 127/200\n",
      "100/100 [==============================] - 0s 41us/step - loss: 104.5254\n",
      "Epoch 128/200\n",
      "100/100 [==============================] - 0s 44us/step - loss: 97.7413\n",
      "Epoch 129/200\n",
      "100/100 [==============================] - 0s 45us/step - loss: 91.3401\n",
      "Epoch 130/200\n",
      "100/100 [==============================] - 0s 44us/step - loss: 85.4028\n",
      "Epoch 131/200\n",
      "100/100 [==============================] - 0s 51us/step - loss: 79.8057\n",
      "Epoch 132/200\n",
      "100/100 [==============================] - 0s 66us/step - loss: 74.4010\n",
      "Epoch 133/200\n",
      "100/100 [==============================] - 0s 54us/step - loss: 69.5597\n",
      "Epoch 134/200\n",
      "100/100 [==============================] - 0s 48us/step - loss: 65.0379\n",
      "Epoch 135/200\n",
      "100/100 [==============================] - 0s 72us/step - loss: 60.9183\n",
      "Epoch 136/200\n",
      "100/100 [==============================] - 0s 56us/step - loss: 57.2015\n",
      "Epoch 137/200\n",
      "100/100 [==============================] - 0s 63us/step - loss: 53.7055\n",
      "Epoch 138/200\n",
      "100/100 [==============================] - 0s 60us/step - loss: 50.4898\n",
      "Epoch 139/200\n",
      "100/100 [==============================] - 0s 55us/step - loss: 47.4810\n",
      "Epoch 140/200\n",
      "100/100 [==============================] - 0s 51us/step - loss: 44.6893\n",
      "Epoch 141/200\n",
      "100/100 [==============================] - 0s 55us/step - loss: 42.0835\n",
      "Epoch 142/200\n",
      "100/100 [==============================] - 0s 56us/step - loss: 39.5910\n",
      "Epoch 143/200\n",
      "100/100 [==============================] - 0s 56us/step - loss: 37.4966\n",
      "Epoch 144/200\n",
      "100/100 [==============================] - 0s 57us/step - loss: 35.5192\n",
      "Epoch 145/200\n",
      "100/100 [==============================] - 0s 51us/step - loss: 33.6232\n",
      "Epoch 146/200\n",
      "100/100 [==============================] - 0s 50us/step - loss: 32.0902\n",
      "Epoch 147/200\n",
      "100/100 [==============================] - 0s 52us/step - loss: 30.5786\n",
      "Epoch 148/200\n",
      "100/100 [==============================] - 0s 48us/step - loss: 29.2251\n",
      "Epoch 149/200\n",
      "100/100 [==============================] - 0s 56us/step - loss: 28.1134\n",
      "Epoch 150/200\n",
      "100/100 [==============================] - 0s 62us/step - loss: 26.9998\n",
      "Epoch 151/200\n",
      "100/100 [==============================] - 0s 70us/step - loss: 26.1198\n",
      "Epoch 152/200\n",
      "100/100 [==============================] - 0s 66us/step - loss: 25.3251\n",
      "Epoch 153/200\n",
      "100/100 [==============================] - 0s 59us/step - loss: 24.6256\n",
      "Epoch 154/200\n",
      "100/100 [==============================] - 0s 72us/step - loss: 23.9675\n",
      "Epoch 155/200\n",
      "100/100 [==============================] - 0s 65us/step - loss: 23.2768\n",
      "Epoch 156/200\n",
      "100/100 [==============================] - 0s 58us/step - loss: 22.7201\n",
      "Epoch 157/200\n",
      "100/100 [==============================] - 0s 65us/step - loss: 22.1626\n",
      "Epoch 158/200\n",
      "100/100 [==============================] - 0s 59us/step - loss: 21.6593\n",
      "Epoch 159/200\n",
      "100/100 [==============================] - 0s 55us/step - loss: 21.1520\n",
      "Epoch 160/200\n",
      "100/100 [==============================] - 0s 57us/step - loss: 20.7203\n",
      "Epoch 161/200\n",
      "100/100 [==============================] - 0s 55us/step - loss: 20.3242\n",
      "Epoch 162/200\n",
      "100/100 [==============================] - 0s 59us/step - loss: 19.9828\n",
      "Epoch 163/200\n",
      "100/100 [==============================] - 0s 57us/step - loss: 19.5955\n",
      "Epoch 164/200\n",
      "100/100 [==============================] - 0s 59us/step - loss: 19.2429\n",
      "Epoch 165/200\n",
      "100/100 [==============================] - 0s 46us/step - loss: 18.9958\n",
      "Epoch 166/200\n",
      "100/100 [==============================] - 0s 61us/step - loss: 18.7451\n",
      "Epoch 167/200\n",
      "100/100 [==============================] - 0s 57us/step - loss: 18.5312\n",
      "Epoch 168/200\n",
      "100/100 [==============================] - 0s 70us/step - loss: 18.3681\n",
      "Epoch 169/200\n",
      "100/100 [==============================] - 0s 64us/step - loss: 18.2161\n",
      "Epoch 170/200\n",
      "100/100 [==============================] - 0s 45us/step - loss: 18.1041\n",
      "Epoch 171/200\n",
      "100/100 [==============================] - 0s 58us/step - loss: 17.9897\n",
      "Epoch 172/200\n",
      "100/100 [==============================] - 0s 64us/step - loss: 17.8834\n",
      "Epoch 173/200\n",
      "100/100 [==============================] - 0s 62us/step - loss: 17.7941\n",
      "Epoch 174/200\n",
      "100/100 [==============================] - 0s 61us/step - loss: 17.6881\n",
      "Epoch 175/200\n",
      "100/100 [==============================] - 0s 51us/step - loss: 17.6315\n",
      "Epoch 176/200\n",
      "100/100 [==============================] - 0s 50us/step - loss: 17.5871\n",
      "Epoch 177/200\n",
      "100/100 [==============================] - 0s 50us/step - loss: 17.5305\n",
      "Epoch 178/200\n",
      "100/100 [==============================] - 0s 52us/step - loss: 17.4878\n",
      "Epoch 179/200\n",
      "100/100 [==============================] - 0s 57us/step - loss: 17.4470\n",
      "Epoch 180/200\n",
      "100/100 [==============================] - 0s 61us/step - loss: 17.4021\n",
      "Epoch 181/200\n",
      "100/100 [==============================] - 0s 65us/step - loss: 17.3681\n",
      "Epoch 182/200\n",
      "100/100 [==============================] - 0s 66us/step - loss: 17.3338\n",
      "Epoch 183/200\n",
      "100/100 [==============================] - 0s 66us/step - loss: 17.3271\n",
      "Epoch 184/200\n",
      "100/100 [==============================] - 0s 70us/step - loss: 17.3166\n",
      "Epoch 185/200\n",
      "100/100 [==============================] - 0s 59us/step - loss: 17.3082\n",
      "Epoch 186/200\n",
      "100/100 [==============================] - 0s 51us/step - loss: 17.2898\n",
      "Epoch 187/200\n",
      "100/100 [==============================] - 0s 45us/step - loss: 17.2883\n",
      "Epoch 188/200\n",
      "100/100 [==============================] - 0s 53us/step - loss: 17.2867\n",
      "Epoch 189/200\n",
      "100/100 [==============================] - 0s 58us/step - loss: 17.2808\n",
      "Epoch 190/200\n"
     ]
    },
    {
     "name": "stdout",
     "output_type": "stream",
     "text": [
      "100/100 [==============================] - 0s 45us/step - loss: 17.2703\n",
      "Epoch 191/200\n",
      "100/100 [==============================] - 0s 51us/step - loss: 17.2533\n",
      "Epoch 192/200\n",
      "100/100 [==============================] - 0s 52us/step - loss: 17.2526\n",
      "Epoch 193/200\n",
      "100/100 [==============================] - 0s 53us/step - loss: 17.2492\n",
      "Epoch 194/200\n",
      "100/100 [==============================] - 0s 63us/step - loss: 17.2439\n",
      "Epoch 195/200\n",
      "100/100 [==============================] - 0s 61us/step - loss: 17.2442\n",
      "Epoch 196/200\n",
      "100/100 [==============================] - 0s 73us/step - loss: 17.2455\n",
      "Epoch 197/200\n",
      "100/100 [==============================] - 0s 58us/step - loss: 17.2556\n",
      "Epoch 198/200\n",
      "100/100 [==============================] - 0s 64us/step - loss: 17.2579\n",
      "Epoch 199/200\n",
      "100/100 [==============================] - 0s 58us/step - loss: 17.2552\n",
      "Epoch 200/200\n",
      "100/100 [==============================] - ETA: 0s - loss: 16.12 - 0s 48us/step - loss: 17.2503\n"
     ]
    },
    {
     "data": {
      "text/plain": [
       "<keras.callbacks.callbacks.History at 0x1a371dbdd8>"
      ]
     },
     "execution_count": 58,
     "metadata": {},
     "output_type": "execute_result"
    }
   ],
   "source": [
    "model.fit(x,y,epochs=200)\n",
    "# Notice that the loss is decreasing as many epochs are run"
   ]
  },
  {
   "cell_type": "code",
   "execution_count": 55,
   "metadata": {},
   "outputs": [
    {
     "ename": "AttributeError",
     "evalue": "'Sequential' object has no attribute 'history'",
     "output_type": "error",
     "traceback": [
      "\u001b[0;31m---------------------------------------------------------------------------\u001b[0m",
      "\u001b[0;31mAttributeError\u001b[0m                            Traceback (most recent call last)",
      "\u001b[0;32m<ipython-input-55-c83d684a7592>\u001b[0m in \u001b[0;36m<module>\u001b[0;34m\u001b[0m\n\u001b[1;32m      1\u001b[0m \u001b[0;31m#Plot loss\u001b[0m\u001b[0;34m\u001b[0m\u001b[0;34m\u001b[0m\u001b[0;34m\u001b[0m\u001b[0m\n\u001b[0;32m----> 2\u001b[0;31m \u001b[0mmodel\u001b[0m\u001b[0;34m.\u001b[0m\u001b[0mhistory\u001b[0m\u001b[0;34m.\u001b[0m\u001b[0mhistory\u001b[0m\u001b[0;34m[\u001b[0m\u001b[0;34m'loss'\u001b[0m\u001b[0;34m]\u001b[0m\u001b[0;34m\u001b[0m\u001b[0;34m\u001b[0m\u001b[0m\n\u001b[0m",
      "\u001b[0;31mAttributeError\u001b[0m: 'Sequential' object has no attribute 'history'"
     ]
    }
   ],
   "source": [
    "#Plot loss\n",
    "model.history.history['loss']"
   ]
  },
  {
   "cell_type": "code",
   "execution_count": 59,
   "metadata": {},
   "outputs": [
    {
     "data": {
      "image/png": "[encoded data removed]",
      "text/plain": [
       "<Figure size 432x288 with 1 Axes>"
      ]
     },
     "metadata": {
      "needs_background": "light"
     },
     "output_type": "display_data"
    }
   ],
   "source": [
    "loss = model.history.history['loss']\n",
    "epochs = range(len(loss))\n",
    "\n",
    "plt.plot(epochs,loss)\n",
    "plt.show()"
   ]
  },
  {
   "cell_type": "code",
   "execution_count": 60,
   "metadata": {},
   "outputs": [],
   "source": [
    "x_for_predictions = np.linspace(0,50,100)\n",
    "\n",
    "y_pred = model.predict(x_for_predictions)"
   ]
  },
  {
   "cell_type": "code",
   "execution_count": 61,
   "metadata": {},
   "outputs": [
    {
     "data": {
      "image/png": "[encoded data removed]",
      "text/plain": [
       "<Figure size 432x288 with 1 Axes>"
      ]
     },
     "metadata": {
      "needs_background": "light"
     },
     "output_type": "display_data"
    }
   ],
   "source": [
    "plt.plot(x,y,'*')\n",
    "plt.plot(x_for_predictions, y_pred, 'r')\n",
    "plt.show()"
   ]
  },
  {
   "cell_type": "code",
   "execution_count": 43,
   "metadata": {},
   "outputs": [
    {
     "data": {
      "text/plain": [
       "3716.0753956476115"
      ]
     },
     "execution_count": 43,
     "metadata": {},
     "output_type": "execute_result"
    }
   ],
   "source": [
    "from sklearn.metrics import mean_squared_error\n",
    "mean_squared_error(y,y_pred)"
   ]
  },
  {
   "cell_type": "code",
   "execution_count": null,
   "metadata": {},
   "outputs": [],
   "source": []
  }
 ],
 "metadata": {
  "kernelspec": {
   "display_name": "Python 3",
   "language": "python",
   "name": "python3"
  },
  "language_info": {
   "codemirror_mode": {
    "name": "ipython",
    "version": 3
   },
   "file_extension": ".py",
   "mimetype": "text/x-python",
   "name": "python",
   "nbconvert_exporter": "python",
   "pygments_lexer": "ipython3",
   "version": "3.7.3"
  }
 },
 "nbformat": 4,
 "nbformat_minor": 2
}
