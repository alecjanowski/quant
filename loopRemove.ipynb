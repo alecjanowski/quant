{
 "cells": [
  {
   "cell_type": "code",
   "execution_count": null,
   "outputs": [],
   "source": [
    "import sys\n",
    "sys.float_info\n",
    "#Should reveal that floats have 8 bytes"
   ],
   "metadata": {
    "collapsed": false,
    "pycharm": {
     "name": "#%%\n"
    }
   }
  },
  {
   "cell_type": "code",
   "execution_count": null,
   "outputs": [],
   "source": [
    "MD = \"metaData\"\n",
    "Indep = \"trainIndependents\"\n",
    "Dep = \"trainDependent\"\n",
    "fileNames = [MD, Indep, Dep]"
   ],
   "metadata": {
    "collapsed": false,
    "pycharm": {
     "name": "#%%\n"
    }
   }
  },
  {
   "cell_type": "code",
   "execution_count": null,
   "outputs": [],
   "source": [
    "import math ##For basic mathematical operations\n",
    "import matplotlib.pyplot as plt\n",
    "import dask.dataframe as dd  \n",
    "from IPython import display ## Plot setup for Ipython\n",
    "from matplotlib import cm ##  Colormap reference\n",
    "from matplotlib import gridspec ##plot setups\n",
    "from matplotlib import pyplot as plt ##plot setups\n",
    "import numpy as np \n",
    "import pandas as pd\n",
    "from sklearn.linear_model import LinearRegression\n",
    "from tqdm import tqdm\n",
    "import collections\n",
    "import warnings\n",
    "# warnings.filterwarnings(\"ignore\") - may want to ignore, if know what you are doing, but can be helpful\n",
    "# warnings.filterwarnings(action = \"once\") - may want to show only once\n",
    "# from Queue import priority_queue"
   ],
   "metadata": {
    "collapsed": false,
    "pycharm": {
     "name": "#%%\n"
    }
   }
  },
  {
   "cell_type": "code",
   "execution_count": null,
   "outputs": [],
   "source": [
    "#LOAD FRAMES WITH CSV CONTENTS FOR 0: INDEPENDENTS 1: DEPENDENTS\n",
    "frames = []\n",
    "for index, fileName in tqdm(enumerate(fileNames)):\n",
    "    frame = dd.read_csv(\"./TestData/\" + fileName + \".csv\", sep=\",\", sample = 2000000)\n",
    "    if(fileName != 'metaData'):\n",
    "        frames.append(frame)"
   ],
   "metadata": {
    "collapsed": false,
    "pycharm": {
     "name": "#%%\n"
    }
   }
  },
  {
   "cell_type": "code",
   "execution_count": null,
   "outputs": [],
   "source": [
    "#HANDLES NAs ! \n",
    "#about 8 seconds\n",
    "SPECIAL_VAL = 69\n",
    "for i in tqdm(range(len(frames))):\n",
    "    frames[i] = frames[i].fillna(SPECIAL_VAL)"
   ],
   "metadata": {
    "collapsed": false,
    "pycharm": {
     "name": "#%%\n"
    }
   }
  },
  {
   "cell_type": "code",
   "execution_count": null,
   "outputs": [],
   "source": [
    "X = frames[0].iloc[:, 1:].to_dask_array(lengths=True) \n",
    "y = frames[1].iloc[:, 1:].to_dask_array(lengths=True)\n",
    "\n",
    "X = np.array(X)\n",
    "y = np.array(y)\n",
    "\n",
    "#data split, difference between row indices yields the number of TIMES included in the dataset\n",
    "xtrain = X[14:16, :]\n",
    "ytrain = y[14:94, :]\n",
    "\n",
    "xtest = X[94:114, :]\n",
    "ytest = y[94:114, :]"
   ],
   "metadata": {
    "collapsed": false,
    "pycharm": {
     "name": "#%%\n"
    }
   }
  },
  {
   "cell_type": "code",
   "execution_count": null,
   "metadata": {
    "collapsed": true
   },
   "outputs": [],
   "source": [
    "NUM_INDEPENDENT = 20\n",
    "NUM_SYMBOLS = 1154\n",
    "#how many times \"20070103_13500\" to include in building the symbol training sets, must be precise to avoid training on extra zeros\n",
    "num_filled_times = 2\n",
    "\n",
    "symbol_training_sets = np.zeros(shape=(NUM_SYMBOLS, num_filled_times), dtype = tuple)\n",
    "\n",
    "for i in range(num_filled_times):\n",
    "    if(xtrain[i][0] == SPECIAL_VAL):\n",
    "        np.delete(symbol_training_sets, i, axis=0)\n",
    "        i = i - 1\n",
    "        num_filled_times = num_filled_times - 1\n",
    "    else:\n",
    "        for j in range(NUM_SYMBOLS):\n",
    "            independents = []\n",
    "            #print(independents)\n",
    "            for k in range(NUM_INDEPENDENT):\n",
    "                independents.append(xtrain[i][j*NUM_INDEPENDENT + k])     \n",
    "            symbol_training_sets[j,i] =(independents, ytrain[i][j])\n",
    "\n",
    "symbol = 0\n",
    "#prints a training set for the given symbol\n",
    "print(symbol_training_sets[symbol]) \n"
   ]
  }
 ],
 "metadata": {
  "kernelspec": {
   "display_name": "${KERNEL_SPEC_DISPLAY_NAME}",
   "language": "${KERNEL_SPEC_LANGUAGE}",
   "name": "${KERNEL_SPEC_NAME}"
  },
  "language_info": {
   "codemirror_mode": {
    "name": "ipython",
    "version": 2
   },
   "file_extension": ".py",
   "mimetype": "text/x-python",
   "name": "python",
   "nbconvert_exporter": "python",
   "pygments_lexer": "ipython2",
   "version": "2.7.6"
  },
  "pycharm": {
   "stem_cell": {
    "cell_type": "raw",
    "source": [],
    "metadata": {
     "collapsed": false
    }
   }
  }
 },
 "nbformat": 4,
 "nbformat_minor": 0
}